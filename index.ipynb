{
 "cells": [
  {
   "cell_type": "markdown",
   "metadata": {},
   "source": [
    "# APIs - Cumulative Lab\n",
    "\n",
    "\n",
    "## Introduction \n",
    "\n",
    "We've seen how the Yelp API works and how to create basic visualizations using Folium. It's time to put those skills to work in order to create a working map! Taking things a step further, you'll also independently explore how to perform pagination in order to retrieve a full results set from the Yelp API.\n",
    "\n",
    "## Objectives\n",
    "\n",
    "You will be able to: \n",
    "\n",
    "* Practice using functions to organize your code\n",
    "* Use pagination to retrieve all results from an API query\n",
    "* Practice parsing data returned from an API query\n",
    "* Practice interpreting visualizations of a dataset\n",
    "* Create maps using Folium"
   ]
  },
  {
   "cell_type": "markdown",
   "metadata": {},
   "source": [
    "## Your Task: Query Yelp for All Businesses in a Category and Analyze the Results\n",
    "\n",
    "![restaurant counter with pizza](images/restaurant_counter.jpg)\n",
    "\n",
    "Photo by <a href=\"https://unsplash.com/@jordanmadrid?utm_source=unsplash&utm_medium=referral&utm_content=creditCopyText\">Jordan Madrid</a> on <a href=\"/s/photos/pizza-restaurant?utm_source=unsplash&utm_medium=referral&utm_content=creditCopyText\">Unsplash</a>"
   ]
  },
  {
   "cell_type": "markdown",
   "metadata": {},
   "source": [
    "### Overview\n",
    "\n",
    "You've now worked with some API calls, but we have yet to see how to retrieve a more complete dataset in a programmatic manner. In this lab, you will write a query of businesses on Yelp, then use *pagination* to retrieve all possible results for that query. Then you will create a summary of your findings, including a Folium map of the geographic locations of those businesses.\n",
    "\n",
    "### Technical Details\n",
    "\n",
    "Returning to the Yelp API, the [documentation](https://www.yelp.com/developers/documentation/v3/business_search) also provides us details regarding the **API limits**. These often include details about the number of requests a user is allowed to make within a specified time limit and the maximum number of results to be returned. In this case, we are told that any request has a **maximum of 50 results per request** and defaults to 20. Furthermore, any search will be limited to a **total of 1000 results**. To retrieve all 1000 of these results, we would have to page through the results piece by piece, retrieving 50 at a time. Processes such as these are often referred to as pagination.\n",
    "\n",
    "Also, be mindful of the **API** ***rate*** **limits**. You can only make **5000 requests per day** and are also can make requests too fast. Start prototyping small before running a loop that could be faulty. You can also use `time.sleep(n)` to add delays. For more details see https://www.yelp.com/developers/documentation/v3/rate_limiting.\n",
    "\n",
    "In this lab, you will define a search and then paginate over the results to retrieve all of the results. You'll then parse these responses as a list of dictionaries (for further exploration) and create a map using Folium to visualize the results geographically.\n",
    "\n",
    "### Requirements\n",
    "\n",
    "#### 1. Make the Initial Request\n",
    "\n",
    "Start by filling in your API key to make the initial request to the business search API. Investigate the structure of the response you get back and start figuring out how you will extract the relevant information.\n",
    "\n",
    "#### 2. Add Pagination\n",
    "\n",
    "Using loops and functions, collect the maximum number of results for your query from the API.\n",
    "\n",
    "#### 3. Perform Exploratory Analysis\n",
    "\n",
    "Interpret visualizations related to the price range, average rating, and number of reviews for all query results.\n",
    "\n",
    "#### 4. Create a Folium Map\n",
    "\n",
    "Using latitude and longitude data, plot the query results on an interactive map."
   ]
  },
  {
   "cell_type": "markdown",
   "metadata": {},
   "source": [
    "## 1. Make the Initial Request\n",
    "\n",
    "### Querying\n",
    "\n",
    "Start by making an initial request to the Yelp API. Your search must include at least 2 parameters: **term** and **location**. For example, you might search for pizza restaurants in NYC. The term and location is up to you but make the request below.\n",
    "\n",
    "Use the `requests` library ([documentation here](https://requests.readthedocs.io/en/master/user/quickstart/#make-a-request)).\n",
    "\n",
    "You'll also need an API key from Yelp. If you haven't done this already, go to the Yelp [Manage App page](https://www.yelp.com/developers/v3/manage_app) and create a new app (after making an account if you haven't already)."
   ]
  },
  {
   "cell_type": "code",
   "execution_count": 2,
   "metadata": {},
   "outputs": [
    {
     "data": {
      "text/plain": [
       "<Response [200]>"
      ]
     },
     "execution_count": 2,
     "metadata": {},
     "output_type": "execute_result"
    }
   ],
   "source": [
    "# Replace None with appropriate code\n",
    "\n",
    "# Import the requests library\n",
    "import requests\n",
    "\n",
    "#import json\n",
    "import json\n",
    "\n",
    "def get_keys(path):\n",
    "    with open(path) as f:\n",
    "        return json.load(f)\n",
    "\n",
    "# Get this from the \"Manage App\" page. Make sure you set them\n",
    "# back to None before pushing this to GitHub, since otherwise\n",
    "# your credentials will be compromised\n",
    "keys = get_keys(\"/Users/eric/Desktop/Flatiron/Canvas/Phase 1/Topic_9_APIs/.secret/yelp_api.json\")\n",
    "\n",
    "api_key = keys['api_key']\n",
    "\n",
    "# These can be whatever you want! But the solution uses \"pizza\"\n",
    "# and \"New York NY\" if you want to compare your work directly\n",
    "term = 'pizza'\n",
    "location = 'New York, NY'\n",
    "\n",
    "# Set up params for request\n",
    "url = \"https://api.yelp.com/v3/businesses/search\"\n",
    "headers = {\n",
    "    \"Authorization\": \"Bearer {}\".format(api_key)\n",
    "}\n",
    "url_params = {\n",
    "    \"term\": term.replace(\" \", \"+\"),\n",
    "    \"location\": location.replace(\" \", \"+\")\n",
    "}\n",
    "\n",
    "# Make the request using requests.get, passing in\n",
    "# url, headers=headers, and params=url_params\n",
    "response = requests.get(url, headers=headers, params=url_params)\n",
    "\n",
    "# Confirm we got a 200 response\n",
    "response"
   ]
  },
  {
   "cell_type": "code",
   "execution_count": 3,
   "metadata": {},
   "outputs": [
    {
     "data": {
      "text/plain": [
       "dict_keys(['businesses', 'total', 'region'])"
      ]
     },
     "execution_count": 3,
     "metadata": {},
     "output_type": "execute_result"
    }
   ],
   "source": [
    "# Run this cell without changes\n",
    "\n",
    "# Get the response body in JSON format\n",
    "response_json = response.json()\n",
    "# View the keys\n",
    "response_json.keys()"
   ]
  },
  {
   "cell_type": "markdown",
   "metadata": {},
   "source": [
    "### Extracting Data\n",
    "\n",
    "Now, retrieve the value associated with the `'businesses'` key, and inspect its contents."
   ]
  },
  {
   "cell_type": "code",
   "execution_count": 4,
   "metadata": {},
   "outputs": [
    {
     "data": {
      "text/plain": [
       "[{'id': 'zj8Lq1T8KIC5zwFief15jg',\n",
       "  'alias': 'prince-street-pizza-new-york-2',\n",
       "  'name': 'Prince Street Pizza',\n",
       "  'image_url': 'https://s3-media3.fl.yelpcdn.com/bphoto/ZAukOyv530w4KjOHC5YY1w/o.jpg',\n",
       "  'is_closed': False,\n",
       "  'url': 'https://www.yelp.com/biz/prince-street-pizza-new-york-2?adjust_creative=y-pTuHPNFwWMngwF_0Pt_w&utm_campaign=yelp_api_v3&utm_medium=api_v3_business_search&utm_source=y-pTuHPNFwWMngwF_0Pt_w',\n",
       "  'review_count': 4340,\n",
       "  'categories': [{'alias': 'pizza', 'title': 'Pizza'},\n",
       "   {'alias': 'italian', 'title': 'Italian'}],\n",
       "  'rating': 4.5,\n",
       "  'coordinates': {'latitude': 40.72308755605564,\n",
       "   'longitude': -73.99453001177575},\n",
       "  'transactions': ['pickup', 'delivery'],\n",
       "  'price': '$',\n",
       "  'location': {'address1': '27 Prince St',\n",
       "   'address2': None,\n",
       "   'address3': '',\n",
       "   'city': 'New York',\n",
       "   'zip_code': '10012',\n",
       "   'country': 'US',\n",
       "   'state': 'NY',\n",
       "   'display_address': ['27 Prince St', 'New York, NY 10012']},\n",
       "  'phone': '+12129664100',\n",
       "  'display_phone': '(212) 966-4100',\n",
       "  'distance': 1961.8771417367063},\n",
       " {'id': 'ysqgdbSrezXgVwER2kQWKA',\n",
       "  'alias': 'julianas-brooklyn-3',\n",
       "  'name': \"Juliana's\",\n",
       "  'image_url': 'https://s3-media2.fl.yelpcdn.com/bphoto/clscwgOF9_Ecq-Rwsq7jyQ/o.jpg',\n",
       "  'is_closed': False,\n",
       "  'url': 'https://www.yelp.com/biz/julianas-brooklyn-3?adjust_creative=y-pTuHPNFwWMngwF_0Pt_w&utm_campaign=yelp_api_v3&utm_medium=api_v3_business_search&utm_source=y-pTuHPNFwWMngwF_0Pt_w',\n",
       "  'review_count': 2443,\n",
       "  'categories': [{'alias': 'pizza', 'title': 'Pizza'}],\n",
       "  'rating': 4.5,\n",
       "  'coordinates': {'latitude': 40.70274718768062,\n",
       "   'longitude': -73.99343490196397},\n",
       "  'transactions': ['delivery'],\n",
       "  'price': '$$',\n",
       "  'location': {'address1': '19 Old Fulton St',\n",
       "   'address2': '',\n",
       "   'address3': '',\n",
       "   'city': 'Brooklyn',\n",
       "   'zip_code': '11201',\n",
       "   'country': 'US',\n",
       "   'state': 'NY',\n",
       "   'display_address': ['19 Old Fulton St', 'Brooklyn, NY 11201']},\n",
       "  'phone': '+17185966700',\n",
       "  'display_phone': '(718) 596-6700',\n",
       "  'distance': 308.56984360837544}]"
      ]
     },
     "execution_count": 4,
     "metadata": {},
     "output_type": "execute_result"
    }
   ],
   "source": [
    "# Replace None with appropriate code\n",
    "\n",
    "# Retrieve the value from response_json\n",
    "businesses = response.json()['businesses']\n",
    "\n",
    "# View the first 2 records\n",
    "businesses[:2]"
   ]
  },
  {
   "cell_type": "markdown",
   "metadata": {},
   "source": [
    "### Preparing Data\n",
    "\n",
    "Write a function `prepare_data` that takes in a list of dictionaries like `businesses` and returns a copy that has been prepared for analysis:\n",
    "\n",
    "1. The `coordinates` key-value pair has been converted into two separate key-value pairs, `latitude` and `longitude`\n",
    "2. All other key-value pairs except for `name`, `review_count`, `rating`, and `price` have been dropped\n",
    "3. All dictionaries missing one of the relevant keys or containing null values have been dropped\n",
    "\n",
    "In other words, the final keys for each dictionary should be `name`, `review_count`, `rating`, `price`, `latitude`, and `longitude`.\n",
    "\n",
    "Complete the function in the cell below:"
   ]
  },
  {
   "cell_type": "code",
   "execution_count": 11,
   "metadata": {},
   "outputs": [
    {
     "data": {
      "text/plain": [
       "{'id': 'zj8Lq1T8KIC5zwFief15jg',\n",
       " 'alias': 'prince-street-pizza-new-york-2',\n",
       " 'name': 'Prince Street Pizza',\n",
       " 'image_url': 'https://s3-media3.fl.yelpcdn.com/bphoto/ZAukOyv530w4KjOHC5YY1w/o.jpg',\n",
       " 'is_closed': False,\n",
       " 'url': 'https://www.yelp.com/biz/prince-street-pizza-new-york-2?adjust_creative=y-pTuHPNFwWMngwF_0Pt_w&utm_campaign=yelp_api_v3&utm_medium=api_v3_business_search&utm_source=y-pTuHPNFwWMngwF_0Pt_w',\n",
       " 'review_count': 4340,\n",
       " 'categories': [{'alias': 'pizza', 'title': 'Pizza'},\n",
       "  {'alias': 'italian', 'title': 'Italian'}],\n",
       " 'rating': 4.5,\n",
       " 'coordinates': {'latitude': 40.72308755605564,\n",
       "  'longitude': -73.99453001177575},\n",
       " 'transactions': ['pickup', 'delivery'],\n",
       " 'price': '$',\n",
       " 'location': {'address1': '27 Prince St',\n",
       "  'address2': None,\n",
       "  'address3': '',\n",
       "  'city': 'New York',\n",
       "  'zip_code': '10012',\n",
       "  'country': 'US',\n",
       "  'state': 'NY',\n",
       "  'display_address': ['27 Prince St', 'New York, NY 10012']},\n",
       " 'phone': '+12129664100',\n",
       " 'display_phone': '(212) 966-4100',\n",
       " 'distance': 1961.8771417367063}"
      ]
     },
     "execution_count": 11,
     "metadata": {},
     "output_type": "execute_result"
    }
   ],
   "source": [
    "businesses[0]"
   ]
  },
  {
   "cell_type": "code",
   "execution_count": 10,
   "metadata": {},
   "outputs": [
    {
     "data": {
      "text/plain": [
       "dict_keys(['id', 'alias', 'name', 'image_url', 'is_closed', 'url', 'review_count', 'categories', 'rating', 'coordinates', 'transactions', 'price', 'location', 'phone', 'display_phone', 'distance'])"
      ]
     },
     "execution_count": 10,
     "metadata": {},
     "output_type": "execute_result"
    }
   ],
   "source": [
    "businesses[0].keys()"
   ]
  },
  {
   "cell_type": "code",
   "execution_count": 13,
   "metadata": {},
   "outputs": [
    {
     "data": {
      "text/plain": [
       "[{'name': 'Prince Street Pizza',\n",
       "  'review_count': 4340,\n",
       "  'rating': 4.5,\n",
       "  'price': '$',\n",
       "  'latitude': 40.72308755605564,\n",
       "  'longitude': -73.99453001177575},\n",
       " {'name': \"Juliana's\",\n",
       "  'review_count': 2443,\n",
       "  'rating': 4.5,\n",
       "  'price': '$$',\n",
       "  'latitude': 40.70274718768062,\n",
       "  'longitude': -73.99343490196397},\n",
       " {'name': 'Rubirosa',\n",
       "  'review_count': 2653,\n",
       "  'rating': 4.5,\n",
       "  'price': '$$',\n",
       "  'latitude': 40.722766,\n",
       "  'longitude': -73.996233},\n",
       " {'name': \"Lombardi's Pizza\",\n",
       "  'review_count': 6315,\n",
       "  'rating': 4.0,\n",
       "  'price': '$$',\n",
       "  'latitude': 40.7215934960083,\n",
       "  'longitude': -73.9955956044561},\n",
       " {'name': \"Grimaldi's Pizzeria\",\n",
       "  'review_count': 4775,\n",
       "  'rating': 3.5,\n",
       "  'price': '$$',\n",
       "  'latitude': 40.702583,\n",
       "  'longitude': -73.9932413}]"
      ]
     },
     "execution_count": 13,
     "metadata": {},
     "output_type": "execute_result"
    }
   ],
   "source": [
    "# Replace None with appropriate code\n",
    "\n",
    "def prepare_data(data_list):\n",
    "    \"\"\"\n",
    "    This function takes in a list of dictionaries and prepares it\n",
    "    for analysis\n",
    "    \"\"\"\n",
    "    \n",
    "    # Make a new list to hold results\n",
    "    results = []\n",
    "    \n",
    "    for business_data in data_list:\n",
    "    \n",
    "        # Make a new dictionary to hold prepared data for this business\n",
    "        prepared_data = {}\n",
    "        \n",
    "        # Extract name, review_count, rating, and price key-value pairs\n",
    "        # from business_data and add to prepared_data\n",
    "        # If a key is not present in business_data, add it to prepared_data\n",
    "        # with an associated value of None\n",
    "        for key in ('name', 'review_count', 'rating', 'price'):\n",
    "            prepared_data[key] = business_data.get(key, None)\n",
    "    \n",
    "        # Parse and add latitude and longitude columns\n",
    "        coordinates = business_data['coordinates']\n",
    "        prepared_data[\"latitude\"] = coordinates[\"latitude\"]\n",
    "        prepared_data[\"longitude\"] = coordinates[\"longitude\"]\n",
    "        \n",
    "        # Add to list if all values are present\n",
    "        if all(prepared_data.values()):\n",
    "            results.append(prepared_data)\n",
    "    \n",
    "    return results\n",
    "    \n",
    "# Test out function\n",
    "prepared_businesses = prepare_data(businesses)\n",
    "prepared_businesses[:5]"
   ]
  },
  {
   "cell_type": "markdown",
   "metadata": {},
   "source": [
    "Check that your function created the correct keys:"
   ]
  },
  {
   "cell_type": "code",
   "execution_count": 14,
   "metadata": {},
   "outputs": [],
   "source": [
    "# Run this cell without changes\n",
    "\n",
    "assert sorted(list(prepared_businesses[0].keys())) == ['latitude', 'longitude', 'name', 'price', 'rating', 'review_count']"
   ]
  },
  {
   "cell_type": "markdown",
   "metadata": {},
   "source": [
    "The following code will differ depending on your query, but we expect there to be 20 businesses in the original list, and potentially fewer in the prepared list (if any of them were missing data):"
   ]
  },
  {
   "cell_type": "code",
   "execution_count": 15,
   "metadata": {},
   "outputs": [
    {
     "name": "stdout",
     "output_type": "stream",
     "text": [
      "Original: 20\n",
      "Prepared: 20\n"
     ]
    }
   ],
   "source": [
    "# Run this cell without changes\n",
    "print(\"Original:\", len(businesses))\n",
    "print(\"Prepared:\", len(prepared_businesses))"
   ]
  },
  {
   "cell_type": "markdown",
   "metadata": {},
   "source": [
    "Great! We will reuse this function once we have retrieved the full dataset."
   ]
  },
  {
   "cell_type": "markdown",
   "metadata": {},
   "source": [
    "## 2. Add Pagination\n",
    "\n",
    "Now that you are able to extract information from one page of the response, let's figure out how to request as many pages as possible.\n",
    "\n",
    "### Determining the Total\n",
    "\n",
    "Depending on the number of total results for your query, you will either retrieve all of the results, or just the first 1000 (if there are more than 1000 total).\n",
    "\n",
    "We can find the total number of results using the `\"total\"` key:"
   ]
  },
  {
   "cell_type": "code",
   "execution_count": 16,
   "metadata": {},
   "outputs": [
    {
     "data": {
      "text/plain": [
       "12000"
      ]
     },
     "execution_count": 16,
     "metadata": {},
     "output_type": "execute_result"
    }
   ],
   "source": [
    "# Run this cell without changes\n",
    "response_json[\"total\"]"
   ]
  },
  {
   "cell_type": "markdown",
   "metadata": {},
   "source": [
    "(This is specific to the implementation of the Yelp API. Some APIs will just tell you that there are more pages, or will tell you the number of pages total, rather than the total number of results. If you're not sure, always check the documentation.)\n",
    "\n",
    "In the cell below, assign the variable `total` to either the value shown above (if it is less than 1000), or 1000."
   ]
  },
  {
   "cell_type": "code",
   "execution_count": 17,
   "metadata": {},
   "outputs": [],
   "source": [
    "# Replace None with appropriate code\n",
    "total = 1000"
   ]
  },
  {
   "cell_type": "markdown",
   "metadata": {},
   "source": [
    "### Calculating the Offsets\n",
    "\n",
    "The documentation states in the parameters section:\n",
    "\n",
    "> **Name**: `limit`, **Type:** int, **Description:** Optional. Number of business results to return. By default, it will return 20. Maximum is 50.\n",
    "\n",
    "> **Name**: `offset`, **Type:** int, **Description:** Optional. Offset the list of returned business results by this amount.\n",
    "\n",
    "So, to get the most results with the fewest API calls we want to set a limit of 50 every time. If, say, we wanted to get 210 total results, that would mean:\n",
    "\n",
    "1. Offset of `0` (first 50 records)\n",
    "2. Offset of `50` (second 50 records)\n",
    "3. Offset of `100` (third 50 records)\n",
    "4. Offset of `150` (fourth 50 records)\n",
    "5. Offset of `200` (final 10 records)\n",
    "\n",
    "In the cell below, create a function `get_offsets` that takes in a total and returns a list of offsets for that total. You can assume that there is a limit of 50 every time.\n",
    "\n",
    "*Hint: you can use `range` ([documentation here](https://docs.python.org/3.3/library/stdtypes.html?highlight=range#range)) to do this in one line of code. Just make the returned result is a list.*"
   ]
  },
  {
   "cell_type": "code",
   "execution_count": 20,
   "metadata": {},
   "outputs": [],
   "source": [
    "# Replace None with appropriate code\n",
    "def get_offsets(total):\n",
    "    \"\"\"\n",
    "    Get a list of offsets needed to get all pages\n",
    "    of data up until the total\n",
    "    \"\"\"\n",
    "    return list(range(0, total, 50))"
   ]
  },
  {
   "cell_type": "markdown",
   "metadata": {},
   "source": [
    "Check that your function works below:"
   ]
  },
  {
   "cell_type": "code",
   "execution_count": 21,
   "metadata": {},
   "outputs": [],
   "source": [
    "# Run this cell without changes\n",
    "\n",
    "assert get_offsets(200) == [0, 50, 100, 150]\n",
    "assert get_offsets(210) == [0, 50, 100, 150, 200]"
   ]
  },
  {
   "cell_type": "markdown",
   "metadata": {},
   "source": [
    "### Putting It All Together\n",
    "\n",
    "Recall that the following variable has already been declared for you:"
   ]
  },
  {
   "cell_type": "code",
   "execution_count": 22,
   "metadata": {},
   "outputs": [
    {
     "data": {
      "text/plain": [
       "{'term': 'pizza', 'location': 'New+York,+NY'}"
      ]
     },
     "execution_count": 22,
     "metadata": {},
     "output_type": "execute_result"
    }
   ],
   "source": [
    "# Run this cell without changes\n",
    "url_params"
   ]
  },
  {
   "cell_type": "markdown",
   "metadata": {},
   "source": [
    "We'll go ahead and also specify that the limit should be 50 every time:"
   ]
  },
  {
   "cell_type": "code",
   "execution_count": 23,
   "metadata": {},
   "outputs": [],
   "source": [
    "# Run this cell without changes\n",
    "url_params[\"limit\"] = 50"
   ]
  },
  {
   "cell_type": "markdown",
   "metadata": {},
   "source": [
    "In order to modify the offset, you'll need to add it to `url_params` with the key `\"offset\"` and whatever value is needed.\n",
    "\n",
    "In the cell below, write code that:\n",
    "\n",
    "* Creates an empty list for the full prepared dataset\n",
    "* Loops over all of the offsets from `get_offsets` and makes an API call each time with the specified offset\n",
    "* Calls `prepare_data` to get a cleaned version of the result of each API call\n",
    "* Extends the full prepared dataset list with each query's prepared dataset"
   ]
  },
  {
   "cell_type": "code",
   "execution_count": 24,
   "metadata": {},
   "outputs": [
    {
     "data": {
      "text/plain": [
       "790"
      ]
     },
     "execution_count": 24,
     "metadata": {},
     "output_type": "execute_result"
    }
   ],
   "source": [
    "# Replace None with appropriate code\n",
    "\n",
    "# Create an empty list for the full prepared dataset\n",
    "full_dataset = []\n",
    "\n",
    "for offset in get_offsets(total):\n",
    "    # Add or update the \"offset\" key-value pair in url_params\n",
    "    url_params[\"offset\"] = offset\n",
    "\n",
    "    # Make the query and get the response\n",
    "    response = requests.get(url, headers=headers, params=url_params)\n",
    "    \n",
    "    # Get the response body in JSON format\n",
    "    response_json = response.json()\n",
    "    \n",
    "    # Get the list of businesses from the response_json\n",
    "    businesses = response_json['businesses']\n",
    "    \n",
    "    # Call the prepare_data function to get a list of processed data\n",
    "    prepared_businesses = prepare_data(businesses)\n",
    "    \n",
    "    # Extend full_dataset with this list (don't append, or you'll get\n",
    "    # a list of lists instead of a flat list)\n",
    "    full_dataset.extend(prepared_businesses)\n",
    "\n",
    "# Check the length of the full dataset. It will be up to `total`,\n",
    "# potentially less if there were missing values\n",
    "len(full_dataset)"
   ]
  },
  {
   "cell_type": "markdown",
   "metadata": {},
   "source": [
    "This code may take up to a few minutes to run.\n",
    "\n",
    "If you get an error trying to get the response body in JSON format, try adding `time.sleep(1)` right after the `requests.get` line, so your code will sleep for 1 second between each API call."
   ]
  },
  {
   "cell_type": "markdown",
   "metadata": {},
   "source": [
    "## 3. Perform Exploratory Analysis\n",
    "\n",
    "Take the businesses from the previous question and do an initial exploratory analysis. We have provided some plots for you to interpret:"
   ]
  },
  {
   "cell_type": "code",
   "execution_count": 25,
   "metadata": {},
   "outputs": [
    {
     "data": {
      "image/png": "[encoded data removed]",
      "text/plain": [
       "<Figure size 1152x360 with 3 Axes>"
      ]
     },
     "metadata": {
      "needs_background": "light"
     },
     "output_type": "display_data"
    }
   ],
   "source": [
    "# Run this cell without changes\n",
    "from collections import Counter\n",
    "import matplotlib.pyplot as plt\n",
    "%matplotlib inline\n",
    "\n",
    "fig, (ax1, ax2, ax3) = plt.subplots(ncols=3, figsize=(16, 5))\n",
    "\n",
    "# Plot distribution of number of reviews\n",
    "all_review_counts = [x[\"review_count\"] for x in full_dataset]\n",
    "ax1.hist(all_review_counts)\n",
    "ax1.set_title(\"Review Count Distribution\")\n",
    "ax1.set_xlabel(\"Number of Reviews\")\n",
    "ax1.set_ylabel(\"Number of Businesses\")\n",
    "\n",
    "# Plot rating distribution\n",
    "all_ratings = [x[\"rating\"] for x in full_dataset]\n",
    "rating_counter = Counter(all_ratings)\n",
    "rating_keys = sorted(rating_counter.keys())\n",
    "ax2.bar(rating_keys, [rating_counter[key] for key in rating_keys])\n",
    "ax2.set_title(\"Rating Distribution\")\n",
    "ax2.set_xlabel(\"Rating\")\n",
    "ax2.set_ylabel(\"Number of Businesses\")\n",
    "\n",
    "# Plot price distribution\n",
    "all_prices = [x[\"price\"].replace(\"$\", r\"\\$\") for x in full_dataset]\n",
    "price_counter = Counter(all_prices)\n",
    "price_keys = sorted(price_counter.keys())\n",
    "ax3.bar(price_keys, [price_counter[key] for key in price_keys])\n",
    "ax3.set_title(\"Price Distribution\")\n",
    "ax3.set_xlabel(\"Price Category\")\n",
    "ax3.set_ylabel(\"Number of Businesses\");"
   ]
  },
  {
   "cell_type": "markdown",
   "metadata": {},
   "source": [
    "Describe the distributions displayed above and interpret them in the context of your query. (Your answer may differ from the solution branch depending on your query.)"
   ]
  },
  {
   "cell_type": "code",
   "execution_count": null,
   "metadata": {},
   "outputs": [],
   "source": [
    "# Replace None with appropriate text\n",
    "\"\"\"\n",
    "Most pizza businesses are skewed with less than 2000 reviews. \n",
    "The distribution for pizza businesses is normally distributed and centered around  a rating of 4.0.\n",
    "Price categories are also skewed and are generally within the $$ or $ range. \n",
    "\"\"\""
   ]
  },
  {
   "cell_type": "markdown",
   "metadata": {},
   "source": [
    "In the cell below, we also plot the rating distributions by price. In this setup, a price of one dollar sign is \"lower price\" and everything else is \"higher price\"."
   ]
  },
  {
   "cell_type": "code",
   "execution_count": 26,
   "metadata": {},
   "outputs": [
    {
     "data": {
      "image/png": "[encoded data removed]",
      "text/plain": [
       "<Figure size 432x288 with 1 Axes>"
      ]
     },
     "metadata": {
      "needs_background": "light"
     },
     "output_type": "display_data"
    }
   ],
   "source": [
    "# Run this cell without changes\n",
    "\n",
    "higher_price = []\n",
    "lower_price = []\n",
    "for row in full_dataset:\n",
    "    if row[\"price\"] == \"$\":\n",
    "        lower_price.append(row[\"rating\"])\n",
    "    else:\n",
    "        higher_price.append(row[\"rating\"])\n",
    "        \n",
    "fig, ax = plt.subplots()\n",
    "\n",
    "ax.hist([higher_price, lower_price], label=[\"higher price\", \"lower price\"], density=True)\n",
    "\n",
    "ax.legend();"
   ]
  },
  {
   "cell_type": "markdown",
   "metadata": {},
   "source": [
    "Is a higher price associated with a higher rating? (No need for any additional math/statistics, just interpret what you see in the plot.)"
   ]
  },
  {
   "cell_type": "code",
   "execution_count": 27,
   "metadata": {},
   "outputs": [
    {
     "data": {
      "text/plain": [
       "'\\nYes, a higher price appears to be associated with a higher rating as shown in the difference between the bars. \\n'"
      ]
     },
     "execution_count": 27,
     "metadata": {},
     "output_type": "execute_result"
    }
   ],
   "source": [
    "# Replace None with appropriate text\n",
    "\"\"\"\n",
    "Yes, a higher price appears to be associated with a higher rating as shown in the difference between the bars. \n",
    "\"\"\""
   ]
  },
  {
   "cell_type": "markdown",
   "metadata": {},
   "source": [
    "Finally, let's look at ratings vs. review counts:"
   ]
  },
  {
   "cell_type": "code",
   "execution_count": 28,
   "metadata": {},
   "outputs": [
    {
     "data": {
      "image/png": "[encoded data removed]",
      "text/plain": [
       "<Figure size 1152x360 with 1 Axes>"
      ]
     },
     "metadata": {
      "needs_background": "light"
     },
     "output_type": "display_data"
    }
   ],
   "source": [
    "# Run this cell without changes\n",
    "fig, ax = plt.subplots(figsize=(16,5))\n",
    "\n",
    "ax.scatter(all_review_counts, all_ratings, alpha=0.2)\n",
    "ax.set_xlabel(\"Number of Reviews\")\n",
    "ax.set_ylabel(\"Rating\")\n",
    "# \"zoom in\" to a subset of review counts\n",
    "ax.set_xlim(left=0, right=1000);"
   ]
  },
  {
   "cell_type": "markdown",
   "metadata": {},
   "source": [
    "Is a higher number of reviews associated with a higher rating?"
   ]
  },
  {
   "cell_type": "code",
   "execution_count": 29,
   "metadata": {},
   "outputs": [
    {
     "data": {
      "text/plain": [
       "'\\nYes a higher number of reivews tends to be centered around an average rating of 4.0\\n'"
      ]
     },
     "execution_count": 29,
     "metadata": {},
     "output_type": "execute_result"
    }
   ],
   "source": [
    "# Replace None with appropriate text\n",
    "\"\"\"\n",
    "It is not entirely clear whether more reviews means a higher rating. \n",
    "\n",
    "\"\"\""
   ]
  },
  {
   "cell_type": "markdown",
   "metadata": {},
   "source": [
    "## 4. Create a Folium Map\n",
    "\n",
    "Make a map using Folium of the businesses you retrieved. Be sure to also add popups to the markers giving some basic information such as name, rating and price.\n",
    "\n",
    "You can center the map around the latitude and longitude of the first item in `full_dataset`."
   ]
  },
  {
   "cell_type": "code",
   "execution_count": 42,
   "metadata": {
    "scrolled": false
   },
   "outputs": [
    {
     "data": {
      "text/html": [
       "<div style=\"width:100%;\"><div style=\"position:relative;width:100%;height:0;padding-bottom:60%;\"><span style=\"color:#565656\">Make this Notebook Trusted to load map: File -> Trust Notebook</span><iframe src=\"about:blank\" style=\"position:absolute;width:100%;height:100%;left:0;top:0;border:none !important;\" data-html=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 onload=\"this.contentDocument.open();this.contentDocument.write(atob(this.getAttribute('data-html')));this.contentDocument.close();\" allowfullscreen webkitallowfullscreen mozallowfullscreen></iframe></div></div>"
      ],
      "text/plain": [
       "<folium.folium.Map at 0x7febe03ec940>"
      ]
     },
     "execution_count": 42,
     "metadata": {},
     "output_type": "execute_result"
    }
   ],
   "source": [
    "# Replace None with appropriate code\n",
    "\n",
    "# Import the library\n",
    "import folium\n",
    "\n",
    "# Set up center latitude and longitude\n",
    "center_lat = full_dataset[0][\"latitude\"]\n",
    "center_long = full_dataset[0][\"longitude\"]\n",
    "\n",
    "# Initialize map with center lat and long\n",
    "yelp_map = folium.Map([center_lat, center_long], zoom_start=12)\n",
    "\n",
    "# Adjust this limit to see more or fewer businesses\n",
    "limit=100\n",
    "\n",
    "for business in full_dataset[:limit]:\n",
    "    # Extract information about business\n",
    "    lat = business['latitude']\n",
    "    long = business['longitude']\n",
    "    name = business['name']\n",
    "    rating = business['rating']\n",
    "    price = business['price']\n",
    "    details = \"{}\\nPrice: {} Rating:{}\".format(name,price,rating)\n",
    "    \n",
    "    # Create popup with relevant details\n",
    "    popup_text = \"Name: {}, Rating: {}, Price: {}\".format(name, rating, price)\n",
    "    popup = folium.Popup(popup_text, parse_html=True)\n",
    "    \n",
    "    # Create marker with relevant lat/long and popup\n",
    "    marker = folium.Marker(location=[lat, long], popup=popup)\n",
    "    \n",
    "    marker.add_to(yelp_map)\n",
    "    \n",
    "yelp_map"
   ]
  },
  {
   "cell_type": "markdown",
   "metadata": {},
   "source": [
    "## Summary\n",
    "\n",
    "Nice work! In this lab, you've made multiple API calls to Yelp in order to paginate through a results set, performing some basic exploratory analysis and then creating a nice interactive map to display the results using Folium! Well done!"
   ]
  }
 ],
 "metadata": {
  "kernelspec": {
   "display_name": "Python 3",
   "language": "python",
   "name": "python3"
  },
  "language_info": {
   "codemirror_mode": {
    "name": "ipython",
    "version": 3
   },
   "file_extension": ".py",
   "mimetype": "text/x-python",
   "name": "python",
   "nbconvert_exporter": "python",
   "pygments_lexer": "ipython3",
   "version": "3.8.5"
  },
  "toc": {
   "base_numbering": 1,
   "nav_menu": {},
   "number_sections": true,
   "sideBar": true,
   "skip_h1_title": false,
   "title_cell": "Table of Contents",
   "title_sidebar": "Contents",
   "toc_cell": false,
   "toc_position": {},
   "toc_section_display": true,
   "toc_window_display": false
  }
 },
 "nbformat": 4,
 "nbformat_minor": 2
}
